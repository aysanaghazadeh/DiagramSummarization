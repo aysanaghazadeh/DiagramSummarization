{
 "cells": [
  {
   "cell_type": "code",
   "execution_count": 3,
   "metadata": {
    "collapsed": true,
    "pycharm": {
     "name": "#%%\n"
    }
   },
   "outputs": [
    {
     "ename": "ModuleNotFoundError",
     "evalue": "No module named 'h5py'",
     "output_type": "error",
     "traceback": [
      "\u001B[0;31m---------------------------------------------------------------------------\u001B[0m",
      "\u001B[0;31mModuleNotFoundError\u001B[0m                       Traceback (most recent call last)",
      "\u001B[0;32m/var/folders/1t/6l04b1413h7_m7f246431wmc0000gn/T/ipykernel_29325/528917751.py\u001B[0m in \u001B[0;36m<module>\u001B[0;34m\u001B[0m\n\u001B[1;32m      3\u001B[0m \u001B[0;32mfrom\u001B[0m \u001B[0mpprint\u001B[0m \u001B[0;32mimport\u001B[0m \u001B[0mpprint\u001B[0m\u001B[0;34m\u001B[0m\u001B[0;34m\u001B[0m\u001B[0m\n\u001B[1;32m      4\u001B[0m \u001B[0;34m\u001B[0m\u001B[0m\n\u001B[0;32m----> 5\u001B[0;31m \u001B[0;32mimport\u001B[0m \u001B[0mh5py\u001B[0m\u001B[0;34m\u001B[0m\u001B[0;34m\u001B[0m\u001B[0m\n\u001B[0m\u001B[1;32m      6\u001B[0m \u001B[0;32mimport\u001B[0m \u001B[0mnumpy\u001B[0m \u001B[0;32mas\u001B[0m \u001B[0mnp\u001B[0m\u001B[0;34m\u001B[0m\u001B[0;34m\u001B[0m\u001B[0m\n\u001B[1;32m      7\u001B[0m \u001B[0;32mimport\u001B[0m \u001B[0msys\u001B[0m\u001B[0;34m\u001B[0m\u001B[0;34m\u001B[0m\u001B[0m\n",
      "\u001B[0;31mModuleNotFoundError\u001B[0m: No module named 'h5py'"
     ]
    }
   ],
   "source": [
    "import json\n",
    "import os\n",
    "from pprint import pprint\n",
    "\n",
    "import h5py\n",
    "import numpy as np\n",
    "import sys\n",
    "\n",
    "from configs.get_config import Config\n",
    "\n",
    "\n",
    "class DataSet(object):\n",
    "    def __init__(self, name, batch_size, data, idxs, idx2id):\n",
    "        self.name = name\n",
    "        self.num_epochs_completed = 0\n",
    "        self.idx_in_epoch = 0\n",
    "        self.batch_size = batch_size\n",
    "        self.data = data\n",
    "        self.idxs = idxs\n",
    "        self.idx2id = idx2id\n",
    "        self.num_examples = len(idxs)\n",
    "        self.num_full_batches = int(self.num_examples / self.batch_size)\n",
    "        self.num_all_batches = self.num_full_batches + int(self.num_examples % self.batch_size > 0)\n",
    "        self.reset()\n",
    "\n",
    "    def get_num_batches(self, partial=False):\n",
    "        return self.num_all_batches if partial else self.num_full_batches\n",
    "\n",
    "    def get_batch_idxs(self, partial=False):\n",
    "        assert self.has_next_batch(partial=partial), \"End of data, reset required.\"\n",
    "        from_, to = self.idx_in_epoch, self.idx_in_epoch + self.batch_size\n",
    "        if partial and to > self.num_examples:\n",
    "            to = self.num_examples\n",
    "        cur_idxs = self.idxs[from_:to]\n",
    "        return cur_idxs\n",
    "\n",
    "    def get_next_labeled_batch(self, partial=False):\n",
    "        cur_idxs = self.get_batch_idxs(partial=partial)\n",
    "        batch = [[each[i] for i in cur_idxs] for each in self.data]\n",
    "        self.idx_in_epoch += len(cur_idxs)\n",
    "        return batch\n",
    "\n",
    "    def has_next_batch(self, partial=False):\n",
    "        if partial:\n",
    "            return self.idx_in_epoch < self.num_examples\n",
    "        return self.idx_in_epoch + self.batch_size <= self.num_examples\n",
    "\n",
    "    def complete_epoch(self):\n",
    "        self.reset()\n",
    "        self.num_epochs_completed += 1\n",
    "\n",
    "    def reset(self):\n",
    "        self.idx_in_epoch = 0\n",
    "        np.random.shuffle(self.idxs)\n",
    "\n",
    "\n",
    "def read_data(params, mode):\n",
    "    print(\"loading {} data ... \".format(mode))\n",
    "    data_dir = params.data_dir\n",
    "\n",
    "    fold_path = params.fold_path\n",
    "    fold = json.load(open(fold_path, 'r'))\n",
    "    if mode in ['train', 'test']:\n",
    "        cur_image_ids = fold[mode]\n",
    "    elif mode == 'val':\n",
    "        cur_image_ids = fold['test']\n",
    "    else:\n",
    "        raise Exception()\n",
    "\n",
    "    sents_path = os.path.join(data_dir, \"sents.json\")\n",
    "    facts_path = os.path.join(data_dir, \"facts.json\")\n",
    "    answers_path = os.path.join(data_dir, \"answers.json\")\n",
    "    images_path = os.path.join(data_dir, \"images.h5\")\n",
    "    image_ids_path = os.path.join(data_dir, \"image_ids.json\")\n",
    "\n",
    "    sentss_dict = json.load(open(sents_path, \"r\"))\n",
    "    facts_dict = json.load(open(facts_path, \"r\"))\n",
    "    answers_dict = json.load(open(answers_path, \"r\"))\n",
    "    images_h5 = h5py.File(images_path, 'r')\n",
    "    all_image_ids = json.load(open(image_ids_path, 'r'))\n",
    "    image_id2idx = {id_: idx for idx, id_ in enumerate(all_image_ids)}\n",
    "\n",
    "    batch_size = params.batch_size\n",
    "    sentss, answers, factss, images = [], [], [], []\n",
    "    idx = 0\n",
    "    idx2id = []\n",
    "    for image_id in cur_image_ids:\n",
    "        if image_id not in sentss_dict or image_id not in facts_dict:\n",
    "            continue\n",
    "        facts = facts_dict[image_id]\n",
    "        image = images_h5['data'][image_id2idx[image_id]]\n",
    "        for sent_id, (sents, answer) in enumerate(zip(sentss_dict[image_id], answers_dict[image_id])):\n",
    "            sentss.append(sents)\n",
    "            answers.append(answer)\n",
    "            factss.append(facts)\n",
    "            images.append(image)\n",
    "            idx2id.append([image_id, sent_id])\n",
    "            idx += 1\n",
    "\n",
    "    data = [sentss, factss, images, answers]\n",
    "    idxs = np.arange(len(answers))\n",
    "    data_set = DataSet(mode, batch_size, data, idxs, idx2id)\n",
    "    print(\"done\")\n",
    "    return data_set\n",
    "\n",
    "\n",
    "if __name__ == \"__main__\":\n",
    "    params = Config()\n",
    "    params.batch_size = 2\n",
    "    params.train = True\n"
   ]
  },
  {
   "cell_type": "code",
   "execution_count": 1,
   "outputs": [],
   "source": [],
   "metadata": {
    "collapsed": false,
    "pycharm": {
     "name": "#%%\n"
    }
   }
  },
  {
   "cell_type": "code",
   "execution_count": null,
   "outputs": [],
   "source": [],
   "metadata": {
    "collapsed": false,
    "pycharm": {
     "name": "#%%\n"
    }
   }
  }
 ],
 "metadata": {
  "kernelspec": {
   "display_name": "Python 3",
   "language": "python",
   "name": "python3"
  },
  "language_info": {
   "codemirror_mode": {
    "name": "ipython",
    "version": 2
   },
   "file_extension": ".py",
   "mimetype": "text/x-python",
   "name": "python",
   "nbconvert_exporter": "python",
   "pygments_lexer": "ipython2",
   "version": "2.7.6"
  }
 },
 "nbformat": 4,
 "nbformat_minor": 0
}